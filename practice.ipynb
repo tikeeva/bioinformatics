{
 "cells": [
  {
   "cell_type": "code",
   "execution_count": 1,
   "metadata": {},
   "outputs": [],
   "source": [
    "from pycodon import read_file"
   ]
  },
  {
   "cell_type": "markdown",
   "metadata": {},
   "source": [
    "## Читаем последовательность из файла "
   ]
  },
  {
   "cell_type": "code",
   "execution_count": 2,
   "metadata": {},
   "outputs": [
    {
     "data": {
      "text/plain": [
       "ATGCGAACTTCATATCTACTGCTATTCACCCTGTGCCTGCTCCTATCGGAGATGGCGAGCGGCGGTAATTTCTTAACGGGACTAGGGCATAGGAGTGACCACTACAATTGTGTTTCTAGTGGCGGGCAATGTCTCTACAGCGCCTGTCCGATATTTACGAAAATTCAAGGAACGTGCTACAGAGGGAAGGCTAAATGTTGCAAG"
      ]
     },
     "execution_count": 2,
     "metadata": {},
     "output_type": "execute_result"
    }
   ],
   "source": [
    "sequences = read_file('data/Sequence1.txt').make_sequences()\n",
    "seq = sequences[0]\n",
    "seq"
   ]
  },
  {
   "cell_type": "markdown",
   "metadata": {},
   "source": [
    "## 1. Транскрипция. \n",
    "Переводим код ДНК в код РНК"
   ]
  },
  {
   "cell_type": "code",
   "execution_count": 3,
   "metadata": {},
   "outputs": [
    {
     "data": {
      "text/plain": [
       "'AUGCGAACUUCAUAUCUACUGCUAUUCACCCUGUGCCUGCUCCUAUCGGAGAUGGCGAGCGGCGGUAAUUUCUUAACGGGACUAGGGCAUAGGAGUGACCACUACAAUUGUGUUUCUAGUGGCGGGCAAUGUCUCUACAGCGCCUGUCCGAUAUUUACGAAAAUUCAAGGAACGUGCUACAGAGGGAAGGCUAAAUGUUGCAAG'"
      ]
     },
     "execution_count": 3,
     "metadata": {},
     "output_type": "execute_result"
    }
   ],
   "source": [
    "seq.transcription()"
   ]
  },
  {
   "cell_type": "markdown",
   "metadata": {},
   "source": [
    "## 2. Трансляция. \n",
    "Переводим в код белка"
   ]
  },
  {
   "cell_type": "code",
   "execution_count": 5,
   "metadata": {},
   "outputs": [
    {
     "data": {
      "text/plain": [
       "'MRTSYLLLFTLCLLLSEMASGGNFLTGLGHRSDHYNCVSSGGQCLYSACPIFTKIQGTCYRGKAKCCK'"
      ]
     },
     "execution_count": 5,
     "metadata": {},
     "output_type": "execute_result"
    }
   ],
   "source": [
    "protein = seq.protein\n",
    "protein"
   ]
  },
  {
   "cell_type": "markdown",
   "metadata": {},
   "source": [
    "## 3. Посчитаем встречаемость\n",
    "### а) каждого нуклеотида"
   ]
  },
  {
   "cell_type": "code",
   "execution_count": 6,
   "metadata": {},
   "outputs": [
    {
     "data": {
      "text/plain": [
       "Counter({'A': 52, 'T': 53, 'G': 54, 'C': 45})"
      ]
     },
     "execution_count": 6,
     "metadata": {},
     "output_type": "execute_result"
    }
   ],
   "source": [
    "seq.nucleotide_counter"
   ]
  },
  {
   "cell_type": "markdown",
   "metadata": {},
   "source": [
    "Общее количество нуклеотидов"
   ]
  },
  {
   "cell_type": "code",
   "execution_count": 7,
   "metadata": {},
   "outputs": [
    {
     "data": {
      "text/plain": [
       "204"
      ]
     },
     "execution_count": 7,
     "metadata": {},
     "output_type": "execute_result"
    }
   ],
   "source": [
    "total = len(seq)\n",
    "total"
   ]
  },
  {
   "cell_type": "markdown",
   "metadata": {},
   "source": [
    "### б) GС \n",
    "(почему GС - они дают три водородные связи и дают\n",
    "термоустойчивость ДНК, это важно для отжига праймеров для ПЦР)"
   ]
  },
  {
   "cell_type": "code",
   "execution_count": 8,
   "metadata": {},
   "outputs": [
    {
     "data": {
      "text/plain": [
       "99"
      ]
     },
     "execution_count": 8,
     "metadata": {},
     "output_type": "execute_result"
    }
   ],
   "source": [
    "gc = seq.nucleotide_counter['G'] + seq.nucleotide_counter['C']\n",
    "gc"
   ]
  },
  {
   "cell_type": "markdown",
   "metadata": {},
   "source": [
    "Посчитаем долю встречаемости аминокислот G и С в  исходной последовательности"
   ]
  },
  {
   "cell_type": "code",
   "execution_count": 10,
   "metadata": {},
   "outputs": [
    {
     "data": {
      "text/plain": [
       "48.529411764705884"
      ]
     },
     "execution_count": 10,
     "metadata": {},
     "output_type": "execute_result"
    }
   ],
   "source": [
    "(gc/total)*100"
   ]
  },
  {
   "cell_type": "markdown",
   "metadata": {},
   "source": [
    "## 4. Сравним в двух белках по Sequence2 и Sequence3\n",
    "### а) GС состав"
   ]
  },
  {
   "cell_type": "code",
   "execution_count": 13,
   "metadata": {},
   "outputs": [
    {
     "name": "stdout",
     "output_type": "stream",
     "text": [
      "Общее кол-во АК в Sequence2: 141, Sequence3: 327\n",
      "Доля GC в Sequence2: 0.46, Sequence3: 0.50\n"
     ]
    }
   ],
   "source": [
    "seq2 = read_file('data/Sequence2.txt').make_sequences()[0]\n",
    "seq3 = read_file('data/Sequence3.txt').make_sequences()[0]\n",
    "print(f'Общее кол-во АК в Sequence2: {len(seq2)}, Sequence3: {len(seq3)}')\n",
    "gc2 = seq2.nucleotide_counter['G'] + seq2.nucleotide_counter['C']\n",
    "gc3 = seq3.nucleotide_counter['G'] + seq3.nucleotide_counter['C']\n",
    "print(f'Доля GC в Sequence2: {(gc2/len(seq2)):.2f}, Sequence3: {(gc3/len(seq3)):.2f}')"
   ]
  },
  {
   "cell_type": "markdown",
   "metadata": {},
   "source": [
    "### б) встречаемость кодонов для глицина (G) и аланина (А)"
   ]
  },
  {
   "cell_type": "code",
   "execution_count": 14,
   "metadata": {},
   "outputs": [
    {
     "name": "stdout",
     "output_type": "stream",
     "text": [
      "G in Sequence2 31 times\n",
      "A in Sequence2 40 times\n"
     ]
    }
   ],
   "source": [
    "for aa in 'GA':\n",
    "    count_ = seq2.nucleotide_counter.get(aa, 0)\n",
    "    print(f'{aa} in Sequence2 {count_} times')\n"
   ]
  },
  {
   "cell_type": "markdown",
   "metadata": {},
   "source": [
    "## 5*. \n",
    "В ДНК последовательностях Sequence1_1, Sequence1_2, Sequence1_3, Sequence1_4 обнаружить\n",
    "неоднозначные нуклеотиды и определить варианты изменения белкового кода и\n",
    "вывести результирющие белковые последовательности."
   ]
  },
  {
   "cell_type": "code",
   "execution_count": 39,
   "metadata": {},
   "outputs": [],
   "source": [
    "seq1_1 = read_file('data/Sequence1_1.txt')\n",
    "seq1_2 = read_file('data/Sequence1_2.txt')\n",
    "seq1_3 = read_file('data/Sequence1_3.txt')\n",
    "seq1_4 = read_file('data/Sequence1_4.txt')"
   ]
  },
  {
   "cell_type": "code",
   "execution_count": 40,
   "metadata": {},
   "outputs": [
    {
     "name": "stdout",
     "output_type": "stream",
     "text": [
      "{'N': [113]}\n",
      "{'H': [197]}\n",
      "{'H': [130]}\n",
      "{'N': [71, 129], 'H': [130]}\n"
     ]
    }
   ],
   "source": [
    "print(seq1_1.ambiguous_nucleotides)\n",
    "print(seq1_2.ambiguous_nucleotides)\n",
    "print(seq1_3.ambiguous_nucleotides)\n",
    "print(seq1_4.ambiguous_nucleotides)"
   ]
  },
  {
   "cell_type": "code",
   "execution_count": 41,
   "metadata": {},
   "outputs": [
    {
     "data": {
      "text/plain": [
       "{'MRTSYLLLFTLCLLLSEMASGGNFLTGLGHRSDHYNCVSSGGQYANFISTAIHPVPAPIGDGERR_FLNGTRA_E_PLQLCF_WRAI'}"
      ]
     },
     "execution_count": 41,
     "metadata": {},
     "output_type": "execute_result"
    }
   ],
   "source": [
    "seqs = seq1_3.make_sequences()\n",
    "set(seq.protein for seq in seqs)"
   ]
  },
  {
   "cell_type": "markdown",
   "metadata": {},
   "source": [
    "## 6*.\n",
    "В последовательности Sequence4 найти старт и стоп кодоны, определить рамку\n",
    "считывания, количество аминокислот в белке и вывести последовательность белка"
   ]
  },
  {
   "cell_type": "code",
   "execution_count": 2,
   "metadata": {},
   "outputs": [],
   "source": [
    "s4 = read_file('data/Sequence4.txt')\n",
    "seqs = s4.make_sequences()\n",
    "start = ['ATG']\n",
    "stop = ['TAA', 'TGA', 'TAG']"
   ]
  },
  {
   "cell_type": "code",
   "execution_count": 3,
   "metadata": {},
   "outputs": [
    {
     "name": "stdout",
     "output_type": "stream",
     "text": [
      "Counter({'L': 10, 'G': 8, 'S': 7, 'C': 7, 'T': 5, 'Y': 4, 'K': 4, 'R': 3, 'F': 3, 'A': 3, 'M': 2, 'N': 2, 'H': 2, 'Q': 2, 'I': 2, 'E': 1, 'D': 1, 'V': 1, 'P': 1})\n",
      "MRTSYLLLFTLCLLLSEMASGGNFLTGLGHRSDHYNCVSSGGQCLYSACPIFTKIQGTCYRGKAKCCK\n",
      "Counter({'G': 8, 'C': 6, 'S': 5, 'K': 4, 'A': 3, 'L': 3, 'T': 3, 'Y': 3, 'N': 2, 'F': 2, 'H': 2, 'R': 2, 'Q': 2, 'I': 2, 'M': 1, 'D': 1, 'V': 1, 'P': 1})\n",
      "MASGGNFLTGLGHRSDHYNCVSSGGQCLYSACPIFTKIQGTCYRGKAKCCK\n",
      "Counter({'L': 6, 'Q': 4, 'S': 3, 'R': 2, 'E': 2, 'V': 2, 'M': 1, 'F': 1, 'C': 1, 'P': 1, 'D': 1, 'Y': 1, 'N': 1, 'H': 1, 'G': 1, 'W': 1})\n",
      "MSLFCLPDLYQNSRHLLQREGQVLQVSWE\n",
      "Counter({'L': 3, 'I': 3, 'K': 2, 'N': 2, 'E': 2, 'F': 2, 'M': 1, 'T': 1, 'Q': 1, '_': 1, 'S': 1, 'C': 1})\n",
      "MTQK_NELFISILLIKENCF\n"
     ]
    }
   ],
   "source": [
    "for seq in seqs:\n",
    "    frames = seq.make_frames(start_codons=start, stop_codons=stop)\n",
    "    for frame in frames:\n",
    "        print(frame.aminoacids())\n",
    "        print(frame.protein)"
   ]
  },
  {
   "cell_type": "markdown",
   "metadata": {},
   "source": [
    "## 7.   \n",
    "В модифицированном геноме вируса гриппа человека (sequence 6) по «смысловой» цепочке ДНК"
   ]
  },
  {
   "cell_type": "markdown",
   "metadata": {},
   "source": [
    "        1. найти неоднозначности прочтений нуклеотидов и определить их положение"
   ]
  },
  {
   "cell_type": "code",
   "execution_count": 2,
   "metadata": {},
   "outputs": [
    {
     "data": {
      "text/plain": [
       "{'M': [0], 'R': [6705], 'K': [11312]}"
      ]
     },
     "execution_count": 2,
     "metadata": {},
     "output_type": "execute_result"
    }
   ],
   "source": [
    "s6 = read_file('data/sequence_6.fa')\n",
    "s6.ambiguous_nucleotides"
   ]
  },
  {
   "cell_type": "markdown",
   "metadata": {},
   "source": [
    "        2. определить сколько белков закодировано в последовательности"
   ]
  },
  {
   "cell_type": "code",
   "execution_count": 5,
   "metadata": {},
   "outputs": [],
   "source": [
    "seqs = s6.make_sequences()\n",
    "start = ['ATG']\n",
    "stop = ['TAA', 'TGA', 'TAG']\n",
    "frames_indices = []\n",
    "\n",
    "prots = set()\n",
    "with open('proteins.txt', 'w') as f:\n",
    "    for seq in seqs:\n",
    "        frames = seq.make_frames(start_codons=start, stop_codons=stop)\n",
    "        f.write(f'{seq}\\n\\n')\n",
    "        for frame in frames:\n",
    "            # if frame.protein not in prots:\n",
    "            prots.add(frame.protein)\n",
    "            start_pos = seq.index(frame)\n",
    "            stop_pos = start_pos + len(frame)\n",
    "            f.write(f'{start_pos, stop_pos} - {frame.protein};\\n')\n",
    "        f.write('$$$$\\n')"
   ]
  },
  {
   "cell_type": "code",
   "execution_count": 6,
   "metadata": {},
   "outputs": [
    {
     "ename": "SyntaxError",
     "evalue": "invalid syntax (1634181086.py, line 17)",
     "output_type": "error",
     "traceback": [
      "\u001b[0;36m  File \u001b[0;32m\"/tmp/ipykernel_12609/1634181086.py\"\u001b[0;36m, line \u001b[0;32m17\u001b[0m\n\u001b[0;31m    frames_poses = [frame: seq[frame[0]:frame[0]] for frame in product(start_pos, stop_pos) if valid_frame(*frame, stop_pos, len_seq)]\u001b[0m\n\u001b[0m                         ^\u001b[0m\n\u001b[0;31mSyntaxError\u001b[0m\u001b[0;31m:\u001b[0m invalid syntax\n"
     ]
    }
   ],
   "source": [
    "# def make_sequences(seq: str, start_codons: Iterable[str], stop_codons: Iterable[str], len_seq:int):\n",
    "#     frame_poses = prot_frame_pos(seq, start_codons, stop_codons, len_seq)\n",
    "#     return [seq[start:stop] for start, stop in frame_poses]\n",
    "\n",
    "\n",
    "def prot_frame_pos(seq: str, start_codons: Iterable[str], stop_codons: Iterable[str], len_seq:int):\n",
    "    start = set(start_codons)\n",
    "    stop = set(stop_codons)\n",
    "    start_pos, stop_pos = [], []\n",
    "    for i in range(len(seq)):\n",
    "        if seq[i:(i + 3)] in start:\n",
    "            start_pos.append(i)\n",
    "        if seq[i:(i + 3)] in stop:\n",
    "            stop_pos.append(i)\n",
    "    # Checking if there is start or stop codons for correct protein generation\n",
    "    if start_pos and stop_pos:\n",
    "        frames_poses = [frame: seq[frame[0]:frame[0]] for frame in product(start_pos, stop_pos) if valid_frame(*frame, stop_pos, len_seq)]           \n",
    "    else:\n",
    "        frames_poses = []\n",
    "    return frames_poses\n",
    "\n",
    "\n",
    "def valid_frame(start: int, stop: int, stop_poses: List[int], len_seq:int):\n",
    "    for i in stop_poses:\n",
    "        if start < i < stop and (i - start) % 3 == 0:\n",
    "            return False\n",
    "    return stop - start > len_seq and (stop - start) % 3 == 0\n",
    "\n"
   ]
  },
  {
   "cell_type": "markdown",
   "metadata": {},
   "source": [
    "        3. вывести варианты последовательностей закодированных белков с указанием положения в геноме (начало старт кодона и конец рамки считывания, т.е. исключая стопкодон)."
   ]
  }
 ],
 "metadata": {
  "interpreter": {
   "hash": "58af737c19faf95023ee7e701c93b348376655526bddd4c4acd100bc5dfb13ba"
  },
  "kernelspec": {
   "display_name": "Python 3.8.11 64-bit ('masterenv': conda)",
   "name": "python3"
  },
  "language_info": {
   "codemirror_mode": {
    "name": "ipython",
    "version": 3
   },
   "file_extension": ".py",
   "mimetype": "text/x-python",
   "name": "python",
   "nbconvert_exporter": "python",
   "pygments_lexer": "ipython3",
   "version": "3.8.11"
  },
  "orig_nbformat": 4
 },
 "nbformat": 4,
 "nbformat_minor": 2
}
